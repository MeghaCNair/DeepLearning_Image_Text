{
  "nbformat": 4,
  "nbformat_minor": 0,
  "metadata": {
    "colab": {
      "provenance": [],
      "gpuType": "L4",
      "machine_shape": "hm"
    },
    "kernelspec": {
      "name": "python3",
      "display_name": "Python 3"
    },
    "language_info": {
      "name": "python"
    },
    "accelerator": "GPU"
  },
  "cells": [
    {
      "cell_type": "code",
      "source": [
        "from google.colab import drive\n",
        "from pathlib import Path\n",
        "\n",
        "if 'google.colab' in str(get_ipython()):\n",
        "    drive.mount('/content/drive')\n",
        "    base_folder = Path('/content/drive/MyDrive/Colab Notebooks/BUAN 6382')\n",
        "    models_folder = base_folder / \"models\"  # Subfolder for saving models\n",
        "    models_folder.mkdir(parents=True, exist_ok=True)  # Create folder if it doesn't exist"
      ],
      "metadata": {
        "colab": {
          "base_uri": "https://localhost:8080/"
        },
        "id": "hObEvd0keZS_",
        "outputId": "c3d4b929-494c-4343-992c-251686a61b25"
      },
      "execution_count": null,
      "outputs": [
        {
          "output_type": "stream",
          "name": "stdout",
          "text": [
            "Mounted at /content/drive\n"
          ]
        }
      ]
    },
    {
      "cell_type": "code",
      "source": [
        "import string\n",
        "\n",
        "def enhanced_clean_text(text):\n",
        "    # Step 1: Find the actual start of the content (e.g., \"Chapter 1\")\n",
        "    start_marker = \"BOOK ONE: 1805\"\n",
        "    start = text.lower().find(start_marker)\n",
        "    if start != -1:\n",
        "        text = text[start:]\n",
        "\n",
        "    # Step 2: Remove URLs and metadata\n",
        "    text = ' '.join([word for word in text.split() if not word.startswith('http')])\n",
        "\n",
        "    # Step 3: Remove special formatting markers and transcriber notes\n",
        "    text = text.replace('_', '')  # Remove underscores\n",
        "    text = text.replace('^', '')  # Remove carat markers\n",
        "    text = text.replace('{', '').replace('}', '')  # Remove curly brackets\n",
        "\n",
        "    # Step 4: Remove punctuation, numbers, and convert to lowercase\n",
        "    text = text.translate(str.maketrans(\"\", \"\", string.punctuation))  # Remove punctuation\n",
        "    text = ''.join([char for char in text if char.isalpha() or char.isspace()])  # Remove numbers\n",
        "    text = text.lower()  # Convert to lowercase\n",
        "\n",
        "    # Step 5: Remove extra spaces\n",
        "    text = ' '.join(text.split())  # Remove redundant spaces\n",
        "\n",
        "    return text\n",
        "\n",
        "# Load raw text file\n",
        "with open(\"War and Peace.txt\", \"r\", encoding=\"utf-8\") as file:\n",
        "    raw_text = file.read()\n",
        "\n",
        "# Apply the cleaning function\n",
        "cleaned_text = enhanced_clean_text(raw_text)\n",
        "\n",
        "# Output the first 500 characters of the cleaned text\n",
        "print(cleaned_text[:500])"
      ],
      "metadata": {
        "colab": {
          "base_uri": "https://localhost:8080/"
        },
        "id": "0aFWC-1X8MiJ",
        "outputId": "61abeacf-8319-4cbe-a92c-53e008cc0184"
      },
      "execution_count": null,
      "outputs": [
        {
          "output_type": "stream",
          "name": "stdout",
          "text": [
            "war and peace by leo tolstoytolstoi contents book one chapter i chapter ii chapter iii chapter iv chapter v chapter vi chapter vii chapter viii chapter ix chapter x chapter xi chapter xii chapter xiii chapter xiv chapter xv chapter xvi chapter xvii chapter xviii chapter xix chapter xx chapter xxi chapter xxii chapter xxiii chapter xxiv chapter xxv chapter xxvi chapter xxvii chapter xxviii book two chapter i chapter ii chapter iii chapter iv chapter v chapter vi chapter vii chapter viii chapter i\n"
          ]
        }
      ]
    },
    {
      "cell_type": "code",
      "source": [
        "import numpy as np\n",
        "\n",
        "# Tokenize the text at character level\n",
        "chars = sorted(set(cleaned_text))  # Unique characters\n",
        "char_to_index = {char: idx for idx, char in enumerate(chars)}  # Character to integer mapping\n",
        "index_to_char = {idx: char for idx, char in enumerate(chars)}  # Integer to character mapping\n",
        "\n",
        "# Convert text into integers\n",
        "text_as_int = np.array([char_to_index[char] for char in cleaned_text])\n",
        "\n",
        "# Define sequence length and prepare input-output pairs\n",
        "sequence_length = 100\n",
        "sequences = []\n",
        "targets = []\n",
        "\n",
        "for i in range(len(text_as_int) - sequence_length):\n",
        "    sequences.append(text_as_int[i:i+sequence_length])\n",
        "    targets.append(text_as_int[i+sequence_length])\n",
        "\n",
        "sequences = np.array(sequences)\n",
        "targets = np.array(targets)"
      ],
      "metadata": {
        "id": "g-l5rK2f8T7m"
      },
      "execution_count": null,
      "outputs": []
    },
    {
      "cell_type": "code",
      "source": [
        "len(sequences)"
      ],
      "metadata": {
        "colab": {
          "base_uri": "https://localhost:8080/"
        },
        "id": "vNByQVk7oAeL",
        "outputId": "facca481-1c34-4008-f940-61add5328e06"
      },
      "execution_count": null,
      "outputs": [
        {
          "output_type": "execute_result",
          "data": {
            "text/plain": [
              "3096990"
            ]
          },
          "metadata": {},
          "execution_count": 5
        }
      ]
    },
    {
      "cell_type": "code",
      "source": [
        "import torch\n",
        "from torch.utils.data import Dataset, DataLoader\n",
        "\n",
        "# Custom dataset class\n",
        "class TextDataset(Dataset):\n",
        "    def __init__(self, sequences, targets):\n",
        "        self.sequences = torch.tensor(sequences, dtype=torch.long)\n",
        "        self.targets = torch.tensor(targets, dtype=torch.long)\n",
        "\n",
        "    def __len__(self):\n",
        "        return len(self.sequences)\n",
        "\n",
        "    def __getitem__(self, idx):\n",
        "        return self.sequences[idx], self.targets[idx]\n",
        "\n",
        "# Split data into training and validation sets\n",
        "train_size = int(0.9 * len(sequences))\n",
        "val_size = len(sequences) - train_size\n",
        "\n",
        "train_dataset = TextDataset(sequences[:train_size], targets[:train_size])\n",
        "val_dataset = TextDataset(sequences[train_size:], targets[train_size:])"
      ],
      "metadata": {
        "id": "5W62-uBP9akt"
      },
      "execution_count": null,
      "outputs": []
    },
    {
      "cell_type": "code",
      "source": [
        "import matplotlib.pyplot as plt\n",
        "import torch\n",
        "\n",
        "def train_model(model, train_loader, val_loader, criterion, optimizer, num_epochs, device):\n",
        "    \"\"\"\n",
        "    Train the given model and visualize training and validation loss over epochs.\n",
        "\n",
        "    Args:\n",
        "        model: The PyTorch model to train.\n",
        "        train_loader: DataLoader for training data.\n",
        "        val_loader: DataLoader for validation data.\n",
        "        criterion: Loss function.\n",
        "        optimizer: Optimizer for training.\n",
        "        num_epochs: Number of training epochs.\n",
        "        device: Device to train on (e.g., \"cpu\" or \"cuda\").\n",
        "\n",
        "    Returns:\n",
        "        model: Trained model (last epoch).\n",
        "        best_model_state_dict: State dictionary of the model with the best validation loss.\n",
        "        train_losses: List of training losses for each epoch.\n",
        "        val_losses: List of validation losses for each epoch.\n",
        "    \"\"\"\n",
        "    # Move model to the device\n",
        "    model.to(device)\n",
        "\n",
        "    # Calculate the number of trainable parameters\n",
        "    total_params = sum(p.numel() for p in model.parameters() if p.requires_grad)\n",
        "    print(f\"Total number of trainable parameters in the model: {total_params}\")\n",
        "\n",
        "    # Lists to store losses\n",
        "    train_losses = []\n",
        "    val_losses = []\n",
        "\n",
        "    # Best validation loss and model\n",
        "    best_val_loss = float('inf')\n",
        "    best_model_state_dict = None\n",
        "\n",
        "    # Training loop\n",
        "    for epoch in range(num_epochs):\n",
        "        model.train()\n",
        "        train_loss = 0\n",
        "        for inputs, targets in train_loader:\n",
        "            inputs, targets = inputs.to(device), targets.to(device)\n",
        "\n",
        "            # Forward pass\n",
        "            outputs, _ = model(inputs)\n",
        "            loss = criterion(outputs, targets)\n",
        "\n",
        "            # Backward pass\n",
        "            optimizer.zero_grad()\n",
        "            loss.backward()\n",
        "            optimizer.step()\n",
        "\n",
        "            train_loss += loss.item()\n",
        "\n",
        "        # Validation loop\n",
        "        model.eval()\n",
        "        val_loss = 0\n",
        "        with torch.no_grad():\n",
        "            for inputs, targets in val_loader:\n",
        "                inputs, targets = inputs.to(device), targets.to(device)\n",
        "                outputs, _ = model(inputs)\n",
        "                loss = criterion(outputs, targets)\n",
        "                val_loss += loss.item()\n",
        "\n",
        "        # Calculate average losses for the epoch\n",
        "        train_loss /= len(train_loader)\n",
        "        val_loss /= len(val_loader)\n",
        "\n",
        "        # Store losses\n",
        "        train_losses.append(train_loss)\n",
        "        val_losses.append(val_loss)\n",
        "\n",
        "        # Check for best validation loss\n",
        "        if val_loss < best_val_loss:\n",
        "            best_val_loss = val_loss\n",
        "            best_model_state_dict = model.state_dict()  # Save the state dict of the best model\n",
        "\n",
        "        print(f\"Epoch {epoch+1}/{num_epochs}, Train Loss: {train_loss:.4f}, Val Loss: {val_loss:.4f}\")\n",
        "\n",
        "    # Plot the training and validation losses\n",
        "    plt.figure(figsize=(10, 6))\n",
        "    plt.plot(range(1, num_epochs + 1), train_losses, label='Training Loss')\n",
        "    plt.plot(range(1, num_epochs + 1), val_losses, label='Validation Loss')\n",
        "    plt.xlabel('Epochs')\n",
        "    plt.ylabel('Loss')\n",
        "    plt.ylim(0)  # Start y-axis from 0\n",
        "    plt.title('Training and Validation Loss over Epochs')\n",
        "    plt.legend()\n",
        "    plt.grid(True)\n",
        "    plt.show()\n",
        "\n",
        "    # Return the model and the best model state dict\n",
        "    return model, best_model_state_dict, train_losses, val_losses\n"
      ],
      "metadata": {
        "id": "HKl8WVba9iwp"
      },
      "execution_count": null,
      "outputs": []
    },
    {
      "cell_type": "code",
      "source": [
        "def generate_text(model, seed_text, length):\n",
        "    model.eval()  # Set the model to evaluation mode\n",
        "    generated_text = seed_text\n",
        "    hidden = None\n",
        "\n",
        "    for _ in range(length):\n",
        "        # Convert seed text to integers\n",
        "        input_seq = torch.tensor([char_to_index[char] for char in seed_text[-sequence_length:]], dtype=torch.long).unsqueeze(0).to(device)\n",
        "\n",
        "        # Get predictions\n",
        "        with torch.no_grad():\n",
        "            output, hidden = model(input_seq, hidden)  # Forward pass\n",
        "            output = output.squeeze(0)  # Remove batch dimension\n",
        "            next_char_index = torch.argmax(output).item()  # Select the most probable character deterministically\n",
        "\n",
        "        # Append the predicted character\n",
        "        next_char = index_to_char[next_char_index]\n",
        "        generated_text += next_char\n",
        "        seed_text += next_char\n",
        "\n",
        "    return generated_text"
      ],
      "metadata": {
        "id": "9GrYHP3Q9sXR"
      },
      "execution_count": null,
      "outputs": []
    },
    {
      "cell_type": "code",
      "source": [
        "# Load the saved model and generate text\n",
        "def load_model(model_class, model_path, vocab_size, embed_size, hidden_size, num_layers, dropout_rate, device):\n",
        "    \"\"\"\n",
        "    Load the saved model state dictionary into a model instance.\n",
        "\n",
        "    Args:\n",
        "        model_class: The class definition of the model.\n",
        "        model_path: Path to the saved model file.\n",
        "        vocab_size: Size of the vocabulary.\n",
        "        embed_size: Size of the embedding layer.\n",
        "        hidden_size: Size of the hidden state.\n",
        "        num_layers: Number of LSTM layers.\n",
        "        dropout_rate: Dropout rate.\n",
        "        device: Device to load the model on (\"cpu\" or \"cuda\").\n",
        "\n",
        "    Returns:\n",
        "        model: Loaded model ready for inference.\n",
        "    \"\"\"\n",
        "    # Instantiate the model\n",
        "    model = model_class(vocab_size, embed_size, hidden_size, num_layers, dropout_rate)\n",
        "    model.load_state_dict(torch.load(model_path, map_location=device))  # Load state dictionary\n",
        "    model.to(device)  # Move to device\n",
        "    model.eval()  # Set to evaluation mode\n",
        "    print(f\"Model loaded from {model_path}\")\n",
        "    return model"
      ],
      "metadata": {
        "id": "FsqL8FDdX4pd"
      },
      "execution_count": null,
      "outputs": []
    },
    {
      "cell_type": "code",
      "source": [
        "import math\n",
        "\n",
        "def calculate_perplexity(model, data_loader):\n",
        "    model.eval()  # Set the model to evaluation mode\n",
        "    total_loss = 0\n",
        "    total_count = 0\n",
        "    criterion = nn.CrossEntropyLoss()  # Loss function used for training\n",
        "\n",
        "    with torch.no_grad():\n",
        "        for inputs, targets in data_loader:\n",
        "            inputs, targets = inputs.to(device), targets.to(device)\n",
        "            outputs, _ = model(inputs)  # Get model predictions\n",
        "            loss = criterion(outputs, targets)  # Compute loss\n",
        "            total_loss += loss.item() * inputs.size(0)  # Accumulate loss\n",
        "            total_count += inputs.size(0)  # Count tokens\n",
        "\n",
        "    # Calculate perplexity\n",
        "    average_loss = total_loss / total_count\n",
        "    perplexity = math.exp(average_loss)\n",
        "    return perplexity"
      ],
      "metadata": {
        "id": "l5aGta4G-ZFm"
      },
      "execution_count": null,
      "outputs": []
    },
    {
      "cell_type": "code",
      "source": [
        "from collections import Counter\n",
        "\n",
        "def calculate_entropy(generated_text):\n",
        "    # Count the frequency of each character\n",
        "    char_counts = Counter(generated_text)\n",
        "    total_chars = sum(char_counts.values())\n",
        "\n",
        "    # Compute entropy\n",
        "    entropy = -sum((count / total_chars) * math.log2(count / total_chars) for count in char_counts.values())\n",
        "    return entropy"
      ],
      "metadata": {
        "id": "2BUmiY2R-47L"
      },
      "execution_count": null,
      "outputs": []
    },
    {
      "cell_type": "code",
      "source": [
        "device = torch.device(\"cuda\" if torch.cuda.is_available() else \"cpu\")\n",
        "print(device)"
      ],
      "metadata": {
        "colab": {
          "base_uri": "https://localhost:8080/"
        },
        "id": "hsxVoNS-d6IR",
        "outputId": "12a68a20-115c-4465-d821-d804cede931a"
      },
      "execution_count": null,
      "outputs": [
        {
          "output_type": "stream",
          "name": "stdout",
          "text": [
            "cuda\n"
          ]
        }
      ]
    },
    {
      "cell_type": "markdown",
      "source": [
        "##Model 0_1 Basic\n",
        "\n",
        "Single layer LSTM.\n",
        "\n",
        "Training Sequence Length 100\n",
        "\n",
        "Hidden size 128\n",
        "\n",
        "Character level Embedding size 128\n",
        "\n",
        "Batch Size 1024"
      ],
      "metadata": {
        "id": "1nEsSEDyjtnl"
      }
    },
    {
      "cell_type": "code",
      "source": [
        "train_loader = DataLoader(train_dataset, batch_size=1024, shuffle=True)\n",
        "val_loader = DataLoader(val_dataset, batch_size=1024)"
      ],
      "metadata": {
        "id": "rK7d-mLajqXc"
      },
      "execution_count": null,
      "outputs": []
    },
    {
      "cell_type": "code",
      "source": [
        "len(train_loader)"
      ],
      "metadata": {
        "colab": {
          "base_uri": "https://localhost:8080/"
        },
        "id": "XmmxjkL-yJv8",
        "outputId": "a2bf298d-7137-4112-8a1a-19d469153190"
      },
      "execution_count": null,
      "outputs": [
        {
          "output_type": "execute_result",
          "data": {
            "text/plain": [
              "2722"
            ]
          },
          "metadata": {},
          "execution_count": 18
        }
      ]
    },
    {
      "cell_type": "code",
      "source": [
        "import torch.nn as nn\n",
        "import torch.optim as optim\n",
        "\n",
        "# Define the LSTM model\n",
        "class LSTMModel(nn.Module):\n",
        "    def __init__(self, vocab_size, embed_size, hidden_size, num_layers=1, dropout=0):\n",
        "        super(LSTMModel, self).__init__()\n",
        "        self.embedding = nn.Embedding(vocab_size, embed_size)\n",
        "        self.lstm = nn.LSTM(\n",
        "            embed_size,\n",
        "            hidden_size,\n",
        "            num_layers=num_layers,\n",
        "            batch_first=True,\n",
        "            dropout=dropout\n",
        "        )\n",
        "        self.dropout = nn.Dropout(dropout)  # Dropout after LSTM output\n",
        "        self.fc = nn.Linear(hidden_size, vocab_size)\n",
        "\n",
        "    def forward(self, x, hidden=None):\n",
        "        x = self.embedding(x)  # Convert input to embeddings\n",
        "        output, hidden = self.lstm(x, hidden)  # Pass through LSTM layers\n",
        "        output = self.dropout(output)  # Apply dropout to LSTM outputs\n",
        "        output = self.fc(output[:, -1, :])  # Use the last output for prediction\n",
        "        return output, hidden\n",
        "\n",
        "# Define model parameters\n",
        "vocab_size = len(chars)\n",
        "embed_size = 128\n",
        "hidden_size = 128\n",
        "\n",
        "model0_1 = LSTMModel(vocab_size, embed_size, hidden_size)\n",
        "\n",
        "# Define loss function and optimizer\n",
        "criterion = nn.CrossEntropyLoss()\n",
        "optimizer0_1 = optim.Adam(model0_1.parameters(), lr=0.001)\n",
        "\n",
        "# Train the model\n",
        "trained_model0_1, best_model_state_dict0_1, train_losses, val_losses = train_model(\n",
        "    model0_1, train_loader, val_loader, criterion, optimizer0_1, num_epochs=20, device=device\n",
        ")\n",
        "\n",
        "# Save the last epoch model\n",
        "last_epoch_model_path = models_folder / \"lstm_model0_1.pth\"\n",
        "torch.save(trained_model0_1.state_dict(), last_epoch_model_path)\n",
        "print(f\"Last epoch model saved to {last_epoch_model_path}\")\n",
        "\n",
        "# Save the best model based on validation loss\n",
        "best_model_path = models_folder / \"lstm_model0_1_best.pth\"\n",
        "torch.save(best_model_state_dict0_1, best_model_path)\n",
        "print(f\"Best validation loss model saved to {best_model_path}\")"
      ],
      "metadata": {
        "id": "pCVDHOzW9chc",
        "colab": {
          "base_uri": "https://localhost:8080/",
          "height": 963
        },
        "outputId": "d78598e1-332b-4353-8aa8-5ac548ce9e59"
      },
      "execution_count": null,
      "outputs": [
        {
          "output_type": "stream",
          "name": "stdout",
          "text": [
            "Total number of trainable parameters in the model: 144175\n",
            "Epoch 1/20, Train Loss: 1.6690, Val Loss: 1.5028\n",
            "Epoch 2/20, Train Loss: 1.3958, Val Loss: 1.4105\n",
            "Epoch 3/20, Train Loss: 1.3303, Val Loss: 1.3750\n",
            "Epoch 4/20, Train Loss: 1.2957, Val Loss: 1.3563\n",
            "Epoch 5/20, Train Loss: 1.2732, Val Loss: 1.3409\n",
            "Epoch 6/20, Train Loss: 1.2569, Val Loss: 1.3264\n",
            "Epoch 7/20, Train Loss: 1.2442, Val Loss: 1.3159\n",
            "Epoch 8/20, Train Loss: 1.2340, Val Loss: 1.3127\n",
            "Epoch 9/20, Train Loss: 1.2258, Val Loss: 1.3068\n",
            "Epoch 10/20, Train Loss: 1.2186, Val Loss: 1.3012\n",
            "Epoch 11/20, Train Loss: 1.2126, Val Loss: 1.2973\n",
            "Epoch 12/20, Train Loss: 1.2073, Val Loss: 1.2920\n",
            "Epoch 13/20, Train Loss: 1.2025, Val Loss: 1.2913\n",
            "Epoch 14/20, Train Loss: 1.1986, Val Loss: 1.2876\n",
            "Epoch 15/20, Train Loss: 1.1948, Val Loss: 1.2831\n",
            "Epoch 16/20, Train Loss: 1.1914, Val Loss: 1.2842\n",
            "Epoch 17/20, Train Loss: 1.1884, Val Loss: 1.2830\n",
            "Epoch 18/20, Train Loss: 1.1856, Val Loss: 1.2804\n",
            "Epoch 19/20, Train Loss: 1.1829, Val Loss: 1.2783\n",
            "Epoch 20/20, Train Loss: 1.1805, Val Loss: 1.2771\n"
          ]
        },
        {
          "output_type": "display_data",
          "data": {
            "text/plain": [
              "<Figure size 1000x600 with 1 Axes>"
            ],
            "image/png": "[encoded data removed]"
          },
          "metadata": {}
        },
        {
          "output_type": "stream",
          "name": "stdout",
          "text": [
            "Last epoch model saved to /content/drive/MyDrive/Colab Notebooks/BUAN 6382/models/lstm_model0_1.pth\n",
            "Best validation loss model saved to /content/drive/MyDrive/Colab Notebooks/BUAN 6382/models/lstm_model0_1_best.pth\n"
          ]
        }
      ]
    },
    {
      "cell_type": "code",
      "source": [
        "# Define model parameters\n",
        "model_path = models_folder / \"lstm_model0_1.pth\"\n",
        "vocab_size = len(chars)\n",
        "embed_size = 128\n",
        "hidden_size = 128\n",
        "num_layers = 1\n",
        "dropout_rate = 0\n",
        "\n",
        "model0_1 = load_model(LSTMModel, model_path, vocab_size, embed_size, hidden_size, num_layers, dropout_rate, device)"
      ],
      "metadata": {
        "colab": {
          "base_uri": "https://localhost:8080/"
        },
        "id": "hdMWWjPuTKqc",
        "outputId": "fa25d12a-eebd-4544-98a0-03f4f19d64ca"
      },
      "execution_count": null,
      "outputs": [
        {
          "output_type": "stream",
          "name": "stdout",
          "text": [
            "Model loaded from /content/drive/MyDrive/Colab Notebooks/BUAN 6382/models/lstm_model0_1.pth\n"
          ]
        },
        {
          "output_type": "stream",
          "name": "stderr",
          "text": [
            "<ipython-input-8-fbad9d1571da>:21: FutureWarning: You are using `torch.load` with `weights_only=False` (the current default value), which uses the default pickle module implicitly. It is possible to construct malicious pickle data which will execute arbitrary code during unpickling (See https://github.com/pytorch/pytorch/blob/main/SECURITY.md#untrusted-models for more details). In a future release, the default value for `weights_only` will be flipped to `True`. This limits the functions that could be executed during unpickling. Arbitrary objects will no longer be allowed to be loaded via this mode unless they are explicitly allowlisted by the user via `torch.serialization.add_safe_globals`. We recommend you start setting `weights_only=True` for any use case where you don't have full control of the loaded file. Please open an issue on GitHub for any issues related to this experimental feature.\n",
            "  model.load_state_dict(torch.load(model_path, map_location=device))  # Load state dictionary\n"
          ]
        }
      ]
    },
    {
      "cell_type": "code",
      "source": [
        "seed_text = \"The soldiers marched forward and at a\".lower()  # Convert to lowercase\n",
        "generated_text = generate_text(model0_1, seed_text, length=200)\n",
        "print(generated_text)"
      ],
      "metadata": {
        "colab": {
          "base_uri": "https://localhost:8080/"
        },
        "id": "CvLh43S3wchG",
        "outputId": "7b7c8499-3710-482b-dc04-d92a58f0d4ea"
      },
      "execution_count": null,
      "outputs": [
        {
          "output_type": "stream",
          "name": "stdout",
          "text": [
            "the soldiers marched forward and at a strange and the street the count and the count and the count and the count and the count and the count and the count and the count and the count and the count and the count and the count and the coun\n"
          ]
        }
      ]
    },
    {
      "cell_type": "code",
      "source": [
        "# Evaluate perplexity on the validation set\n",
        "val_perplexity = calculate_perplexity(model0_1, val_loader)\n",
        "print(f\"Validation Perplexity: {val_perplexity:.2f}\")\n",
        "\n",
        "entropy = calculate_entropy(generated_text)\n",
        "print(f\"Entropy of Generated Text: {entropy:.2f}\")"
      ],
      "metadata": {
        "colab": {
          "base_uri": "https://localhost:8080/"
        },
        "id": "nan2vrTPx_B7",
        "outputId": "ae777fd7-9ee5-44fc-a799-23530cd0c547"
      },
      "execution_count": null,
      "outputs": [
        {
          "output_type": "stream",
          "name": "stdout",
          "text": [
            "Validation Perplexity: 3.58\n",
            "Entropy of Generated Text: 3.50\n"
          ]
        }
      ]
    },
    {
      "cell_type": "markdown",
      "source": [
        "## Model1_1:\n",
        "\n",
        "Single layer LSTM.\n",
        "\n",
        "Training Sequence Length 100\n",
        "\n",
        "Hidden size 512\n",
        "\n",
        "Character level Embedding size 128\n",
        "\n",
        "Batch Size 512"
      ],
      "metadata": {
        "id": "ybh7XIUfD7Ex"
      }
    },
    {
      "cell_type": "code",
      "source": [
        "train_loader = DataLoader(train_dataset, batch_size=2096, shuffle=True)\n",
        "val_loader = DataLoader(val_dataset, batch_size=2096)"
      ],
      "metadata": {
        "id": "XQVIX73OyXDn"
      },
      "execution_count": null,
      "outputs": []
    },
    {
      "cell_type": "code",
      "source": [
        "len(train_loader)"
      ],
      "metadata": {
        "colab": {
          "base_uri": "https://localhost:8080/"
        },
        "id": "wnMhYCn7yYFx",
        "outputId": "a5f444b0-1b1d-4dee-d208-77fa8e405bff"
      },
      "execution_count": null,
      "outputs": [
        {
          "output_type": "execute_result",
          "data": {
            "text/plain": [
              "1330"
            ]
          },
          "metadata": {},
          "execution_count": 25
        }
      ]
    },
    {
      "cell_type": "code",
      "source": [
        "# Define the LSTM model\n",
        "class LSTMModel1(nn.Module):\n",
        "    def __init__(self, vocab_size, embed_size, hidden_size, num_layers=1, dropout=0):\n",
        "        super(LSTMModel1, self).__init__()\n",
        "        self.embedding = nn.Embedding(vocab_size, embed_size)\n",
        "        self.lstm = nn.LSTM(\n",
        "            embed_size,\n",
        "            hidden_size,\n",
        "            num_layers=num_layers,\n",
        "            batch_first=True,\n",
        "            dropout=dropout\n",
        "        )\n",
        "        self.dropout = nn.Dropout(dropout)  # Dropout after LSTM output\n",
        "        self.fc = nn.Linear(hidden_size, vocab_size)\n",
        "\n",
        "    def forward(self, x, hidden=None):\n",
        "        x = self.embedding(x)  # Convert input to embeddings\n",
        "        output, hidden = self.lstm(x, hidden)  # Pass through LSTM layers\n",
        "        output = self.dropout(output)  # Apply dropout to LSTM outputs\n",
        "        output = self.fc(output[:, -1, :])  # Use the last output for prediction\n",
        "        return output, hidden\n",
        "\n",
        "# Define model parameters\n",
        "vocab_size = len(chars)\n",
        "embed_size = 128\n",
        "hidden_size = 512\n",
        "\n",
        "model1_1 = LSTMModel1(vocab_size, embed_size, hidden_size)\n",
        "\n",
        "# Define loss function and optimizer\n",
        "criterion = nn.CrossEntropyLoss()\n",
        "optimizer1_1 = optim.Adam(model1_1.parameters(), lr=0.001)\n",
        "\n",
        "# Train the model\n",
        "trained_model1_1, best_model_state_dict1_1, train_losses, val_losses = train_model(\n",
        "    model1_1, train_loader, val_loader, criterion, optimizer1_1, num_epochs=20, device=device\n",
        ")\n",
        "\n",
        "# Save the last epoch model\n",
        "last_epoch_model_path = models_folder / \"lstm_model1_1.pth\"\n",
        "torch.save(trained_model1_1.state_dict(), last_epoch_model_path)\n",
        "print(f\"Last epoch model saved to {last_epoch_model_path}\")\n",
        "\n",
        "# Save the best model based on validation loss\n",
        "best_model_path = models_folder / \"lstm_model1_1_best.pth\"\n",
        "torch.save(best_model_state_dict1_1, best_model_path)\n",
        "print(f\"Best validation loss model saved to {best_model_path}\")"
      ],
      "metadata": {
        "id": "tYnoH0KrDxpT",
        "colab": {
          "base_uri": "https://localhost:8080/",
          "height": 963
        },
        "outputId": "fadca360-2312-4e1b-c2c3-83173fb82809"
      },
      "execution_count": null,
      "outputs": [
        {
          "output_type": "stream",
          "name": "stdout",
          "text": [
            "Total number of trainable parameters in the model: 1344943\n",
            "Epoch 1/20, Train Loss: 1.4945, Val Loss: 1.3245\n",
            "Epoch 2/20, Train Loss: 1.1998, Val Loss: 1.2423\n",
            "Epoch 3/20, Train Loss: 1.1324, Val Loss: 1.2124\n",
            "Epoch 4/20, Train Loss: 1.0942, Val Loss: 1.1945\n",
            "Epoch 5/20, Train Loss: 1.0679, Val Loss: 1.1865\n",
            "Epoch 6/20, Train Loss: 1.0474, Val Loss: 1.1796\n",
            "Epoch 7/20, Train Loss: 1.0305, Val Loss: 1.1783\n",
            "Epoch 8/20, Train Loss: 1.0160, Val Loss: 1.1776\n",
            "Epoch 9/20, Train Loss: 1.0033, Val Loss: 1.1755\n",
            "Epoch 10/20, Train Loss: 0.9920, Val Loss: 1.1768\n",
            "Epoch 11/20, Train Loss: 0.9817, Val Loss: 1.1773\n",
            "Epoch 12/20, Train Loss: 0.9723, Val Loss: 1.1795\n",
            "Epoch 13/20, Train Loss: 0.9639, Val Loss: 1.1830\n",
            "Epoch 14/20, Train Loss: 0.9561, Val Loss: 1.1865\n",
            "Epoch 15/20, Train Loss: 0.9489, Val Loss: 1.1848\n",
            "Epoch 16/20, Train Loss: 0.9423, Val Loss: 1.1913\n",
            "Epoch 17/20, Train Loss: 0.9365, Val Loss: 1.1954\n",
            "Epoch 18/20, Train Loss: 0.9306, Val Loss: 1.1976\n",
            "Epoch 19/20, Train Loss: 0.9257, Val Loss: 1.1994\n",
            "Epoch 20/20, Train Loss: 0.9210, Val Loss: 1.2029\n"
          ]
        },
        {
          "output_type": "display_data",
          "data": {
            "text/plain": [
              "<Figure size 1000x600 with 1 Axes>"
            ],
            "image/png": "[encoded data removed]"
          },
          "metadata": {}
        },
        {
          "output_type": "stream",
          "name": "stdout",
          "text": [
            "Last epoch model saved to /content/drive/MyDrive/Colab Notebooks/BUAN 6382/models/lstm_model1_1.pth\n",
            "Best validation loss model saved to /content/drive/MyDrive/Colab Notebooks/BUAN 6382/models/lstm_model1_1_best.pth\n"
          ]
        }
      ]
    },
    {
      "cell_type": "code",
      "source": [
        "# Define model parameters\n",
        "model_path = models_folder / \"lstm_model1_1_best.pth\"\n",
        "vocab_size = len(chars)\n",
        "embed_size = 128\n",
        "hidden_size = 512\n",
        "num_layers = 1\n",
        "dropout_rate = 0\n",
        "\n",
        "model1_1 = load_model(LSTMModel1, model_path, vocab_size, embed_size, hidden_size, num_layers, dropout_rate, device)"
      ],
      "metadata": {
        "colab": {
          "base_uri": "https://localhost:8080/"
        },
        "id": "SC64mC0KEy-1",
        "outputId": "2f694d37-3b39-407e-8152-db9834267b03"
      },
      "execution_count": null,
      "outputs": [
        {
          "output_type": "stream",
          "name": "stdout",
          "text": [
            "Model loaded from /content/drive/MyDrive/Colab Notebooks/BUAN 6382/models/lstm_model1_1_best.pth\n"
          ]
        },
        {
          "output_type": "stream",
          "name": "stderr",
          "text": [
            "<ipython-input-8-fbad9d1571da>:21: FutureWarning: You are using `torch.load` with `weights_only=False` (the current default value), which uses the default pickle module implicitly. It is possible to construct malicious pickle data which will execute arbitrary code during unpickling (See https://github.com/pytorch/pytorch/blob/main/SECURITY.md#untrusted-models for more details). In a future release, the default value for `weights_only` will be flipped to `True`. This limits the functions that could be executed during unpickling. Arbitrary objects will no longer be allowed to be loaded via this mode unless they are explicitly allowlisted by the user via `torch.serialization.add_safe_globals`. We recommend you start setting `weights_only=True` for any use case where you don't have full control of the loaded file. Please open an issue on GitHub for any issues related to this experimental feature.\n",
            "  model.load_state_dict(torch.load(model_path, map_location=device))  # Load state dictionary\n"
          ]
        }
      ]
    },
    {
      "cell_type": "code",
      "source": [
        "seed_text = \"The soldiers marched forward and at a\".lower()  # Convert to lowercase\n",
        "generated_text = generate_text(model1_1, seed_text, length=200)\n",
        "print(generated_text)"
      ],
      "metadata": {
        "colab": {
          "base_uri": "https://localhost:8080/"
        },
        "id": "Xi0InKccFD4n",
        "outputId": "fec5e929-1dc7-4c7d-a350-08e4177bc13e"
      },
      "execution_count": null,
      "outputs": [
        {
          "output_type": "stream",
          "name": "stdout",
          "text": [
            "the soldiers marched forward and at a distance which was already at the same time and the countess was a significance of the conversation with his hand and said to him and the countess was a significance of the commander in chiefs attemp\n"
          ]
        }
      ]
    },
    {
      "cell_type": "code",
      "source": [
        "# Evaluate perplexity on the validation set\n",
        "val_perplexity = calculate_perplexity(model1_1, val_loader)\n",
        "print(f\"Validation Perplexity: {val_perplexity:.2f}\")\n",
        "\n",
        "entropy = calculate_entropy(generated_text)\n",
        "print(f\"Entropy of Generated Text: {entropy:.2f}\")"
      ],
      "metadata": {
        "id": "gdPvyhvvUHk2",
        "colab": {
          "base_uri": "https://localhost:8080/"
        },
        "outputId": "3deba058-94dc-4889-9f49-c661bc0ea83c"
      },
      "execution_count": null,
      "outputs": [
        {
          "output_type": "stream",
          "name": "stdout",
          "text": [
            "Validation Perplexity: 3.33\n",
            "Entropy of Generated Text: 3.88\n"
          ]
        }
      ]
    },
    {
      "cell_type": "markdown",
      "source": [
        "# BEST MODEL: Retrain with LR Scheduler."
      ],
      "metadata": {
        "id": "tBfNTuO-afeh"
      }
    },
    {
      "cell_type": "markdown",
      "source": [
        "## Model2_1:\n",
        "\n",
        "Single layer LSTM.\n",
        "\n",
        "Training Sequence Length 100\n",
        "\n",
        "Hidden size 1024\n",
        "\n",
        "Character level Embedding size 128\n",
        "\n",
        "Batch Size 2096"
      ],
      "metadata": {
        "id": "Kq5lYdAAgzaN"
      }
    },
    {
      "cell_type": "code",
      "source": [
        "# Define the LSTM model\n",
        "class LSTMModel2(nn.Module):\n",
        "    def __init__(self, vocab_size, embed_size, hidden_size, num_layers=1, dropout=0):\n",
        "        super(LSTMModel2, self).__init__()\n",
        "        self.embedding = nn.Embedding(vocab_size, embed_size)\n",
        "        self.lstm = nn.LSTM(\n",
        "            embed_size,\n",
        "            hidden_size,\n",
        "            num_layers=num_layers,\n",
        "            batch_first=True,\n",
        "            dropout=dropout\n",
        "        )\n",
        "        self.dropout = nn.Dropout(dropout)  # Dropout after LSTM output\n",
        "        self.fc = nn.Linear(hidden_size, vocab_size)\n",
        "\n",
        "    def forward(self, x, hidden=None):\n",
        "        x = self.embedding(x)  # Convert input to embeddings\n",
        "        output, hidden = self.lstm(x, hidden)  # Pass through LSTM layers\n",
        "        output = self.dropout(output)  # Apply dropout to LSTM outputs\n",
        "        output = self.fc(output[:, -1, :])  # Use the last output for prediction\n",
        "        return output, hidden\n",
        "\n",
        "# Define model parameters\n",
        "vocab_size = len(chars)\n",
        "embed_size = 128\n",
        "hidden_size = 1024\n",
        "\n",
        "model2_1 = LSTMModel2(vocab_size, embed_size, hidden_size)\n",
        "\n",
        "# Define loss function and optimizer\n",
        "criterion = nn.CrossEntropyLoss()\n",
        "optimizer2_1 = optim.Adam(model2_1.parameters(), lr=0.001)\n",
        "\n",
        "# Train the model\n",
        "trained_model2_1, best_model_state_dict2_1, train_losses, val_losses = train_model(\n",
        "    model2_1, train_loader, val_loader, criterion, optimizer2_1, num_epochs=20, device=device\n",
        ")\n",
        "\n",
        "# Save the last epoch model\n",
        "last_epoch_model_path = models_folder / \"lstm_model2_1.pth\"\n",
        "torch.save(trained_model2_1.state_dict(), last_epoch_model_path)\n",
        "print(f\"Last epoch model saved to {last_epoch_model_path}\")\n",
        "\n",
        "# Save the best model based on validation loss\n",
        "best_model_path = models_folder / \"lstm_model2_1_best.pth\"\n",
        "torch.save(best_model_state_dict2_1, best_model_path)\n",
        "print(f\"Best validation loss model saved to {best_model_path}\")"
      ],
      "metadata": {
        "id": "ZxnQHBLZltrj",
        "colab": {
          "base_uri": "https://localhost:8080/",
          "height": 963
        },
        "outputId": "dedf3975-8d15-4fb3-d6db-57626053cba2"
      },
      "execution_count": null,
      "outputs": [
        {
          "output_type": "stream",
          "name": "stdout",
          "text": [
            "Total number of trainable parameters in the model: 4780975\n",
            "Epoch 1/20, Train Loss: 1.3807, Val Loss: 1.2379\n",
            "Epoch 2/20, Train Loss: 1.1153, Val Loss: 1.1818\n",
            "Epoch 3/20, Train Loss: 1.0514, Val Loss: 1.1572\n",
            "Epoch 4/20, Train Loss: 1.0087, Val Loss: 1.1443\n",
            "Epoch 5/20, Train Loss: 0.9748, Val Loss: 1.1451\n",
            "Epoch 6/20, Train Loss: 0.9464, Val Loss: 1.1481\n",
            "Epoch 7/20, Train Loss: 0.9214, Val Loss: 1.1527\n",
            "Epoch 8/20, Train Loss: 0.9000, Val Loss: 1.1584\n",
            "Epoch 9/20, Train Loss: 0.8817, Val Loss: 1.1750\n",
            "Epoch 10/20, Train Loss: 0.8670, Val Loss: 1.1797\n",
            "Epoch 11/20, Train Loss: 0.8544, Val Loss: 1.1924\n",
            "Epoch 12/20, Train Loss: 0.8448, Val Loss: 1.1995\n",
            "Epoch 13/20, Train Loss: 0.8387, Val Loss: 1.2064\n",
            "Epoch 14/20, Train Loss: 0.8342, Val Loss: 1.2179\n",
            "Epoch 15/20, Train Loss: 0.8318, Val Loss: 1.2246\n",
            "Epoch 16/20, Train Loss: 0.8332, Val Loss: 1.2311\n",
            "Epoch 17/20, Train Loss: 0.8345, Val Loss: 1.2329\n",
            "Epoch 18/20, Train Loss: 0.8392, Val Loss: 1.2333\n",
            "Epoch 19/20, Train Loss: 0.8446, Val Loss: 1.2374\n",
            "Epoch 20/20, Train Loss: 0.8528, Val Loss: 1.2319\n"
          ]
        },
        {
          "output_type": "display_data",
          "data": {
            "text/plain": [
              "<Figure size 1000x600 with 1 Axes>"
            ],
            "image/png": "[encoded data removed]"
          },
          "metadata": {}
        },
        {
          "output_type": "stream",
          "name": "stdout",
          "text": [
            "Last epoch model saved to /content/drive/MyDrive/Colab Notebooks/BUAN 6382/models/lstm_model2_1.pth\n",
            "Best validation loss model saved to /content/drive/MyDrive/Colab Notebooks/BUAN 6382/models/lstm_model2_1_best.pth\n"
          ]
        }
      ]
    },
    {
      "cell_type": "code",
      "source": [
        "# Define model parameters\n",
        "model_path = models_folder / \"lstm_model2_1_best.pth\"\n",
        "vocab_size = len(chars)\n",
        "embed_size = 128\n",
        "hidden_size = 1024\n",
        "num_layers = 1\n",
        "dropout_rate = 0\n",
        "\n",
        "model1_1 = load_model(LSTMModel1, model_path, vocab_size, embed_size, hidden_size, num_layers, dropout_rate, device)"
      ],
      "metadata": {
        "id": "bBg7zFLWhQua",
        "colab": {
          "base_uri": "https://localhost:8080/"
        },
        "outputId": "2ecba3cb-1d4a-44d9-a5de-a914b97a139b"
      },
      "execution_count": null,
      "outputs": [
        {
          "output_type": "stream",
          "name": "stdout",
          "text": [
            "Model loaded from /content/drive/MyDrive/Colab Notebooks/BUAN 6382/models/lstm_model2_1_best.pth\n"
          ]
        },
        {
          "output_type": "stream",
          "name": "stderr",
          "text": [
            "<ipython-input-8-fbad9d1571da>:21: FutureWarning: You are using `torch.load` with `weights_only=False` (the current default value), which uses the default pickle module implicitly. It is possible to construct malicious pickle data which will execute arbitrary code during unpickling (See https://github.com/pytorch/pytorch/blob/main/SECURITY.md#untrusted-models for more details). In a future release, the default value for `weights_only` will be flipped to `True`. This limits the functions that could be executed during unpickling. Arbitrary objects will no longer be allowed to be loaded via this mode unless they are explicitly allowlisted by the user via `torch.serialization.add_safe_globals`. We recommend you start setting `weights_only=True` for any use case where you don't have full control of the loaded file. Please open an issue on GitHub for any issues related to this experimental feature.\n",
            "  model.load_state_dict(torch.load(model_path, map_location=device))  # Load state dictionary\n"
          ]
        }
      ]
    },
    {
      "cell_type": "code",
      "source": [
        "seed_text = \"The soldiers marched forward and at a\".lower()  # Convert to lowercase\n",
        "generated_text = generate_text(model1_1, seed_text, length=200)\n",
        "print(generated_text)"
      ],
      "metadata": {
        "colab": {
          "base_uri": "https://localhost:8080/"
        },
        "id": "RtSBUOw_Fb9H",
        "outputId": "47322d68-4d7e-4a15-e4ea-f3432c267bee"
      },
      "execution_count": null,
      "outputs": [
        {
          "output_type": "stream",
          "name": "stdout",
          "text": [
            "the soldiers marched forward and at any moment the count was sent to him and the count was sent to her so far said the count who was sitting in the corner of the street the count was seriously as if in any pained hole in his hand and she\n"
          ]
        }
      ]
    },
    {
      "cell_type": "code",
      "source": [
        "# Evaluate perplexity on the validation set\n",
        "val_perplexity = calculate_perplexity(model2_1, val_loader)\n",
        "print(f\"Validation Perplexity: {val_perplexity:.2f}\")\n",
        "\n",
        "entropy = calculate_entropy(generated_text)\n",
        "print(f\"Entropy of Generated Text: {entropy:.2f}\")"
      ],
      "metadata": {
        "colab": {
          "base_uri": "https://localhost:8080/"
        },
        "id": "Iz0UUgeQkwc8",
        "outputId": "6d019acf-6eae-4473-b527-37a2495faedf"
      },
      "execution_count": null,
      "outputs": [
        {
          "output_type": "stream",
          "name": "stdout",
          "text": [
            "Validation Perplexity: 3.42\n",
            "Entropy of Generated Text: 3.82\n"
          ]
        }
      ]
    },
    {
      "cell_type": "markdown",
      "source": [
        "## Model4:\n",
        "\n",
        "Two layer LSTM.\n",
        "\n",
        "Hidden size 512\n",
        "\n",
        "Character level Embedding size 128\n",
        "\n",
        "Batch Size 3200\n",
        "\n",
        "Dropout 0.5"
      ],
      "metadata": {
        "id": "R8CfB4Y-Tctr"
      }
    },
    {
      "cell_type": "code",
      "source": [
        "train_loader = DataLoader(train_dataset, batch_size=3200, shuffle=True)\n",
        "val_loader = DataLoader(val_dataset, batch_size=3200)"
      ],
      "metadata": {
        "id": "l381KM-cXX5P"
      },
      "execution_count": null,
      "outputs": []
    },
    {
      "cell_type": "code",
      "source": [
        "import torch.nn as nn\n",
        "import torch.optim as optim\n",
        "\n",
        "class LSTMModel4(nn.Module):\n",
        "    def __init__(self, vocab_size, embed_size, hidden_size, num_layers=1, dropout=0.5):\n",
        "        super(LSTMModel4, self).__init__()\n",
        "        self.embedding = nn.Embedding(vocab_size, embed_size)\n",
        "        self.lstm = nn.LSTM(\n",
        "            embed_size,\n",
        "            hidden_size,\n",
        "            num_layers=num_layers,\n",
        "            batch_first=True,\n",
        "            dropout=dropout\n",
        "        )\n",
        "        self.dropout = nn.Dropout(dropout)  # Dropout after LSTM output\n",
        "        self.fc = nn.Linear(hidden_size, vocab_size)\n",
        "\n",
        "    def forward(self, x, hidden=None):\n",
        "        x = self.embedding(x)  # Convert input to embeddings\n",
        "        output, hidden = self.lstm(x, hidden)  # Pass through LSTM layers\n",
        "        output = self.dropout(output)  # Apply dropout to LSTM outputs\n",
        "        output = self.fc(output[:, -1, :])  # Use the last output for prediction\n",
        "        return output, hidden"
      ],
      "metadata": {
        "id": "0su8JbQ7Zsqj"
      },
      "execution_count": null,
      "outputs": []
    },
    {
      "cell_type": "code",
      "source": [
        "import torch.nn as nn\n",
        "import torch.optim as optim\n",
        "\n",
        "class LSTMModel4(nn.Module):\n",
        "    def __init__(self, vocab_size, embed_size, hidden_size, num_layers=1, dropout=0.5):\n",
        "        super(LSTMModel4, self).__init__()\n",
        "        self.embedding = nn.Embedding(vocab_size, embed_size)\n",
        "        self.lstm = nn.LSTM(\n",
        "            embed_size,\n",
        "            hidden_size,\n",
        "            num_layers=num_layers,\n",
        "            batch_first=True,\n",
        "            dropout=dropout\n",
        "        )\n",
        "        self.dropout = nn.Dropout(dropout)  # Dropout after LSTM output\n",
        "        self.fc = nn.Linear(hidden_size, vocab_size)\n",
        "\n",
        "    def forward(self, x, hidden=None):\n",
        "        x = self.embedding(x)  # Convert input to embeddings\n",
        "        output, hidden = self.lstm(x, hidden)  # Pass through LSTM layers\n",
        "        output = self.dropout(output)  # Apply dropout to LSTM outputs\n",
        "        output = self.fc(output[:, -1, :])  # Use the last output for prediction\n",
        "        return output, hidden\n",
        "\n",
        "# Define model parameters\n",
        "vocab_size = len(chars)\n",
        "embed_size = 128\n",
        "hidden_size = 512\n",
        "num_layers = 2\n",
        "dropout_rate = 0.5\n",
        "\n",
        "# Instantiate the model with dropout\n",
        "model4 = LSTMModel4(vocab_size, embed_size, hidden_size, num_layers, dropout=dropout_rate)\n",
        "\n",
        "# Define loss function and optimizer\n",
        "criterion = nn.CrossEntropyLoss()\n",
        "optimizer4 = optim.Adam(model4.parameters(), lr=0.001)\n",
        "\n",
        "# Train the model\n",
        "trained_model, train_losses, val_losses = train_model(\n",
        "    model4, train_loader, val_loader, criterion, optimizer4, num_epochs=20, device=device\n",
        ")\n",
        "\n",
        "# Save the model to Google Drive\n",
        "model_save_path = models_folder / \"lstm_model4.pth\"\n",
        "torch.save(trained_model.state_dict(), model_save_path)\n",
        "print(f\"Model saved to {model_save_path}\")"
      ],
      "metadata": {
        "colab": {
          "base_uri": "https://localhost:8080/",
          "height": 963
        },
        "id": "vM55-axuTdC8",
        "outputId": "cb1b98b1-7c5c-4856-f1e8-cbca8984ed63"
      },
      "execution_count": null,
      "outputs": [
        {
          "output_type": "stream",
          "name": "stdout",
          "text": [
            "Total number of trainable parameters in the model: 3446191\n",
            "Epoch 1/20, Train Loss: 1.6630, Val Loss: 1.3491\n",
            "Epoch 2/20, Train Loss: 1.3162, Val Loss: 1.2592\n",
            "Epoch 3/20, Train Loss: 1.2408, Val Loss: 1.2207\n",
            "Epoch 4/20, Train Loss: 1.2012, Val Loss: 1.1976\n",
            "Epoch 5/20, Train Loss: 1.1753, Val Loss: 1.1858\n",
            "Epoch 6/20, Train Loss: 1.1570, Val Loss: 1.1727\n",
            "Epoch 7/20, Train Loss: 1.1443, Val Loss: 1.1699\n",
            "Epoch 8/20, Train Loss: 1.1312, Val Loss: 1.1575\n",
            "Epoch 9/20, Train Loss: 1.1208, Val Loss: 1.1530\n",
            "Epoch 10/20, Train Loss: 1.1115, Val Loss: 1.1506\n",
            "Epoch 11/20, Train Loss: 1.1051, Val Loss: 1.1489\n",
            "Epoch 12/20, Train Loss: 1.0989, Val Loss: 1.1452\n",
            "Epoch 13/20, Train Loss: 1.0934, Val Loss: 1.1431\n",
            "Epoch 14/20, Train Loss: 1.0887, Val Loss: 1.1426\n",
            "Epoch 15/20, Train Loss: 1.0836, Val Loss: 1.1379\n",
            "Epoch 16/20, Train Loss: 1.0795, Val Loss: 1.1357\n",
            "Epoch 17/20, Train Loss: 1.0763, Val Loss: 1.1319\n",
            "Epoch 18/20, Train Loss: 1.0725, Val Loss: 1.1331\n",
            "Epoch 19/20, Train Loss: 1.0707, Val Loss: 1.1305\n",
            "Epoch 20/20, Train Loss: 1.0664, Val Loss: 1.1293\n",
            "Model saved to lstm_model.pth\n"
          ]
        },
        {
          "output_type": "display_data",
          "data": {
            "text/plain": [
              "<Figure size 1000x600 with 1 Axes>"
            ],
            "image/png": "[encoded data removed]"
          },
          "metadata": {}
        },
        {
          "output_type": "stream",
          "name": "stdout",
          "text": [
            "Model saved to /content/drive/MyDrive/Colab Notebooks/BUAN 6382/models/lstm_model4.pth\n"
          ]
        }
      ]
    },
    {
      "cell_type": "code",
      "source": [
        "def train_model_continue(model, train_loader, val_loader, criterion, optimizer, num_epochs, device, start_epoch=1):\n",
        "    \"\"\"\n",
        "    Train or continue training a given model and visualize training and validation loss over epochs.\n",
        "\n",
        "    Args:\n",
        "        model: The PyTorch model to train.\n",
        "        train_loader: DataLoader for training data.\n",
        "        val_loader: DataLoader for validation data.\n",
        "        criterion: Loss function.\n",
        "        optimizer: Optimizer for training.\n",
        "        num_epochs: Number of total training epochs.\n",
        "        device: Device to train on (e.g., \"cpu\" or \"cuda\").\n",
        "        start_epoch: The epoch number to start training from (default is 1).\n",
        "\n",
        "    Returns:\n",
        "        model: Trained model (last epoch).\n",
        "        best_model_state_dict: State dictionary of the model with the best validation loss.\n",
        "        train_losses: List of training losses for each epoch.\n",
        "        val_losses: List of validation losses for each epoch.\n",
        "    \"\"\"\n",
        "    # Move model to the device\n",
        "    model.to(device)\n",
        "\n",
        "    # Calculate the number of trainable parameters\n",
        "    total_params = sum(p.numel() for p in model.parameters() if p.requires_grad)\n",
        "    print(f\"Total number of trainable parameters in the model: {total_params}\")\n",
        "\n",
        "    # Lists to store losses\n",
        "    train_losses = []\n",
        "    val_losses = []\n",
        "\n",
        "    # Best validation loss and model\n",
        "    best_val_loss = float('inf')\n",
        "    best_model_state_dict = None\n",
        "\n",
        "    # Training loop\n",
        "    for epoch in range(start_epoch, num_epochs + 1):\n",
        "        model.train()\n",
        "        train_loss = 0\n",
        "        for inputs, targets in train_loader:\n",
        "            inputs, targets = inputs.to(device), targets.to(device)\n",
        "\n",
        "            # Forward pass\n",
        "            outputs, _ = model(inputs)\n",
        "            loss = criterion(outputs, targets)\n",
        "\n",
        "            # Backward pass\n",
        "            optimizer.zero_grad()\n",
        "            loss.backward()\n",
        "            optimizer.step()\n",
        "\n",
        "            train_loss += loss.item()\n",
        "\n",
        "        # Validation loop\n",
        "        model.eval()\n",
        "        val_loss = 0\n",
        "        with torch.no_grad():\n",
        "            for inputs, targets in val_loader:\n",
        "                inputs, targets = inputs.to(device), targets.to(device)\n",
        "                outputs, _ = model(inputs)\n",
        "                loss = criterion(outputs, targets)\n",
        "                val_loss += loss.item()\n",
        "\n",
        "        # Calculate average losses for the epoch\n",
        "        train_loss /= len(train_loader)\n",
        "        val_loss /= len(val_loader)\n",
        "\n",
        "        # Store losses\n",
        "        train_losses.append(train_loss)\n",
        "        val_losses.append(val_loss)\n",
        "\n",
        "        # Check for best validation loss\n",
        "        if val_loss < best_val_loss:\n",
        "            best_val_loss = val_loss\n",
        "            best_model_state_dict = model.state_dict()  # Save the state dict of the best model\n",
        "\n",
        "        print(f\"Epoch {epoch}/{num_epochs}, Train Loss: {train_loss:.4f}, Val Loss: {val_loss:.4f}\")\n",
        "\n",
        "    # Return the model and the best model state dict\n",
        "    return model, best_model_state_dict, train_losses, val_losses\n",
        "\n"
      ],
      "metadata": {
        "id": "n3Sux4MEUxZm"
      },
      "execution_count": null,
      "outputs": []
    },
    {
      "cell_type": "code",
      "source": [
        "def continue_training(model, checkpoint_path, train_loader, val_loader, criterion, optimizer, start_epoch, end_epoch, device):\n",
        "    \"\"\"\n",
        "    Continue training a saved model from a given checkpoint.\n",
        "\n",
        "    Args:\n",
        "        model: The PyTorch model to train.\n",
        "        checkpoint_path: Path to the saved model checkpoint.\n",
        "        train_loader: DataLoader for training data.\n",
        "        val_loader: DataLoader for validation data.\n",
        "        criterion: Loss function.\n",
        "        optimizer: Optimizer for training.\n",
        "        start_epoch: The epoch number to resume training from.\n",
        "        end_epoch: The epoch number to stop training at.\n",
        "        device: Device to train on (e.g., \"cpu\" or \"cuda\").\n",
        "    \"\"\"\n",
        "    # Load the checkpoint\n",
        "    model.load_state_dict(torch.load(checkpoint_path))\n",
        "    model.to(device)\n",
        "    print(f\"Resuming training from epoch {start_epoch}...\")\n",
        "\n",
        "    # Continue training\n",
        "    return train_model_continue(model, train_loader, val_loader, criterion, optimizer, end_epoch, device, start_epoch=start_epoch)\n",
        "\n",
        "optimizer4 = optim.Adam(model4.parameters(), lr=0.0002)\n",
        "\n",
        "# Example usage:\n",
        "# Assuming `model4`, `train_loader`, and `val_loader` are defined\n",
        "checkpoint_path = model_save_path\n",
        "trained_model, best_model_state, train_losses, val_losses = continue_training(\n",
        "    model4,\n",
        "    checkpoint_path,\n",
        "    train_loader,\n",
        "    val_loader,\n",
        "    criterion,\n",
        "    optimizer4,\n",
        "    start_epoch=20,\n",
        "    end_epoch=30,\n",
        "    device=device\n",
        ")\n",
        "\n",
        "# Save the final model\n",
        "torch.save(trained_model.state_dict(), models_folder / \"lstm_model4_epoch30.pth\")\n",
        "print(\"Final model saved as 'lstm_model_final.pth'\")"
      ],
      "metadata": {
        "colab": {
          "base_uri": "https://localhost:8080/",
          "height": 463
        },
        "id": "JcClWSYgUHf3",
        "outputId": "b6d9eba4-b4b1-42e6-cf1b-8178fa4ad2e2"
      },
      "execution_count": null,
      "outputs": [
        {
          "output_type": "stream",
          "name": "stderr",
          "text": [
            "<ipython-input-15-99fe665b7b62>:17: FutureWarning: You are using `torch.load` with `weights_only=False` (the current default value), which uses the default pickle module implicitly. It is possible to construct malicious pickle data which will execute arbitrary code during unpickling (See https://github.com/pytorch/pytorch/blob/main/SECURITY.md#untrusted-models for more details). In a future release, the default value for `weights_only` will be flipped to `True`. This limits the functions that could be executed during unpickling. Arbitrary objects will no longer be allowed to be loaded via this mode unless they are explicitly allowlisted by the user via `torch.serialization.add_safe_globals`. We recommend you start setting `weights_only=True` for any use case where you don't have full control of the loaded file. Please open an issue on GitHub for any issues related to this experimental feature.\n",
            "  model.load_state_dict(torch.load(checkpoint_path))\n"
          ]
        },
        {
          "output_type": "stream",
          "name": "stdout",
          "text": [
            "Resuming training from epoch 20...\n",
            "Total number of trainable parameters in the model: 3446191\n",
            "Epoch 20/30, Train Loss: 1.0391, Val Loss: 1.1238\n"
          ]
        },
        {
          "output_type": "error",
          "ename": "KeyboardInterrupt",
          "evalue": "",
          "traceback": [
            "\u001b[0;31m---------------------------------------------------------------------------\u001b[0m",
            "\u001b[0;31mKeyboardInterrupt\u001b[0m                         Traceback (most recent call last)",
            "\u001b[0;32m<ipython-input-15-99fe665b7b62>\u001b[0m in \u001b[0;36m<cell line: 29>\u001b[0;34m()\u001b[0m\n\u001b[1;32m     27\u001b[0m \u001b[0;31m# Assuming `model4`, `train_loader`, and `val_loader` are defined\u001b[0m\u001b[0;34m\u001b[0m\u001b[0;34m\u001b[0m\u001b[0m\n\u001b[1;32m     28\u001b[0m \u001b[0mcheckpoint_path\u001b[0m \u001b[0;34m=\u001b[0m \u001b[0mmodel_save_path\u001b[0m\u001b[0;34m\u001b[0m\u001b[0;34m\u001b[0m\u001b[0m\n\u001b[0;32m---> 29\u001b[0;31m trained_model, best_model_state, train_losses, val_losses = continue_training(\n\u001b[0m\u001b[1;32m     30\u001b[0m     \u001b[0mmodel4\u001b[0m\u001b[0;34m,\u001b[0m\u001b[0;34m\u001b[0m\u001b[0;34m\u001b[0m\u001b[0m\n\u001b[1;32m     31\u001b[0m     \u001b[0mcheckpoint_path\u001b[0m\u001b[0;34m,\u001b[0m\u001b[0;34m\u001b[0m\u001b[0;34m\u001b[0m\u001b[0m\n",
            "\u001b[0;32m<ipython-input-15-99fe665b7b62>\u001b[0m in \u001b[0;36mcontinue_training\u001b[0;34m(model, checkpoint_path, train_loader, val_loader, criterion, optimizer, start_epoch, end_epoch, device)\u001b[0m\n\u001b[1;32m     20\u001b[0m \u001b[0;34m\u001b[0m\u001b[0m\n\u001b[1;32m     21\u001b[0m     \u001b[0;31m# Continue training\u001b[0m\u001b[0;34m\u001b[0m\u001b[0;34m\u001b[0m\u001b[0m\n\u001b[0;32m---> 22\u001b[0;31m     \u001b[0;32mreturn\u001b[0m \u001b[0mtrain_model_continue\u001b[0m\u001b[0;34m(\u001b[0m\u001b[0mmodel\u001b[0m\u001b[0;34m,\u001b[0m \u001b[0mtrain_loader\u001b[0m\u001b[0;34m,\u001b[0m \u001b[0mval_loader\u001b[0m\u001b[0;34m,\u001b[0m \u001b[0mcriterion\u001b[0m\u001b[0;34m,\u001b[0m \u001b[0moptimizer\u001b[0m\u001b[0;34m,\u001b[0m \u001b[0mend_epoch\u001b[0m\u001b[0;34m,\u001b[0m \u001b[0mdevice\u001b[0m\u001b[0;34m,\u001b[0m \u001b[0mstart_epoch\u001b[0m\u001b[0;34m=\u001b[0m\u001b[0mstart_epoch\u001b[0m\u001b[0;34m)\u001b[0m\u001b[0;34m\u001b[0m\u001b[0;34m\u001b[0m\u001b[0m\n\u001b[0m\u001b[1;32m     23\u001b[0m \u001b[0;34m\u001b[0m\u001b[0m\n\u001b[1;32m     24\u001b[0m \u001b[0moptimizer4\u001b[0m \u001b[0;34m=\u001b[0m \u001b[0moptim\u001b[0m\u001b[0;34m.\u001b[0m\u001b[0mAdam\u001b[0m\u001b[0;34m(\u001b[0m\u001b[0mmodel4\u001b[0m\u001b[0;34m.\u001b[0m\u001b[0mparameters\u001b[0m\u001b[0;34m(\u001b[0m\u001b[0;34m)\u001b[0m\u001b[0;34m,\u001b[0m \u001b[0mlr\u001b[0m\u001b[0;34m=\u001b[0m\u001b[0;36m0.0002\u001b[0m\u001b[0;34m)\u001b[0m\u001b[0;34m\u001b[0m\u001b[0;34m\u001b[0m\u001b[0m\n",
            "\u001b[0;32m<ipython-input-14-db74f80f0380>\u001b[0m in \u001b[0;36mtrain_model_continue\u001b[0;34m(model, train_loader, val_loader, criterion, optimizer, num_epochs, device, start_epoch)\u001b[0m\n\u001b[1;32m     50\u001b[0m             \u001b[0moptimizer\u001b[0m\u001b[0;34m.\u001b[0m\u001b[0mstep\u001b[0m\u001b[0;34m(\u001b[0m\u001b[0;34m)\u001b[0m\u001b[0;34m\u001b[0m\u001b[0;34m\u001b[0m\u001b[0m\n\u001b[1;32m     51\u001b[0m \u001b[0;34m\u001b[0m\u001b[0m\n\u001b[0;32m---> 52\u001b[0;31m             \u001b[0mtrain_loss\u001b[0m \u001b[0;34m+=\u001b[0m \u001b[0mloss\u001b[0m\u001b[0;34m.\u001b[0m\u001b[0mitem\u001b[0m\u001b[0;34m(\u001b[0m\u001b[0;34m)\u001b[0m\u001b[0;34m\u001b[0m\u001b[0;34m\u001b[0m\u001b[0m\n\u001b[0m\u001b[1;32m     53\u001b[0m \u001b[0;34m\u001b[0m\u001b[0m\n\u001b[1;32m     54\u001b[0m         \u001b[0;31m# Validation loop\u001b[0m\u001b[0;34m\u001b[0m\u001b[0;34m\u001b[0m\u001b[0m\n",
            "\u001b[0;31mKeyboardInterrupt\u001b[0m: "
          ]
        }
      ]
    },
    {
      "cell_type": "code",
      "source": [
        "# Model parameters\n",
        "model_path = models_folder / \"lstm_model4.pth\"\n",
        "vocab_size = len(chars)\n",
        "embed_size = 128\n",
        "hidden_size = 512\n",
        "num_layers = 2\n",
        "dropout_rate = 0.5\n",
        "\n",
        "# Load the model\n",
        "model4 = load_model(LSTMModel4, model_path, vocab_size, embed_size, hidden_size, num_layers, dropout_rate, device)\n",
        "\n",
        "seed_text = \"The soldiers marched forward and at a\".lower()  # Convert to lowercase\n",
        "generated_text = generate_text(model4, seed_text, length=200)\n",
        "print(generated_text)"
      ],
      "metadata": {
        "id": "8K-RkhhMX4fu",
        "colab": {
          "base_uri": "https://localhost:8080/"
        },
        "outputId": "4ccd9cad-ae99-411a-d38f-71838d4d2071"
      },
      "execution_count": null,
      "outputs": [
        {
          "output_type": "stream",
          "name": "stderr",
          "text": [
            "<ipython-input-9-fbad9d1571da>:21: FutureWarning: You are using `torch.load` with `weights_only=False` (the current default value), which uses the default pickle module implicitly. It is possible to construct malicious pickle data which will execute arbitrary code during unpickling (See https://github.com/pytorch/pytorch/blob/main/SECURITY.md#untrusted-models for more details). In a future release, the default value for `weights_only` will be flipped to `True`. This limits the functions that could be executed during unpickling. Arbitrary objects will no longer be allowed to be loaded via this mode unless they are explicitly allowlisted by the user via `torch.serialization.add_safe_globals`. We recommend you start setting `weights_only=True` for any use case where you don't have full control of the loaded file. Please open an issue on GitHub for any issues related to this experimental feature.\n",
            "  model.load_state_dict(torch.load(model_path, map_location=device))  # Load state dictionary\n"
          ]
        },
        {
          "output_type": "stream",
          "name": "stdout",
          "text": [
            "Model loaded from /content/drive/MyDrive/Colab Notebooks/BUAN 6382/models/lstm_model4.pth\n",
            "the soldiers marched forward and at a state of the staff of the staff of the staff of the staff of the staff of the street the count was a stranger and the same thing the count was a stranger and the same thing the count was a stranger a\n"
          ]
        }
      ]
    },
    {
      "cell_type": "code",
      "source": [
        "# Evaluate perplexity on the validation set\n",
        "val_perplexity = calculate_perplexity(model4, val_loader)\n",
        "print(f\"Validation Perplexity: {val_perplexity:.2f}\")\n",
        "\n",
        "entropy = calculate_entropy(generated_text)\n",
        "print(f\"Entropy of Generated Text: {entropy:.2f}\")"
      ],
      "metadata": {
        "id": "gkOCr67g0q-o"
      },
      "execution_count": null,
      "outputs": []
    }
  ]
}